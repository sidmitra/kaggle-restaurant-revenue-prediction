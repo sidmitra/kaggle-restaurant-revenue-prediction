{
 "cells": [
  {
   "cell_type": "markdown",
   "metadata": {},
   "source": [
    "# Restaurant Revenue Prediction"
   ]
  },
  {
   "cell_type": "code",
   "execution_count": 23,
   "metadata": {
    "collapsed": true
   },
   "outputs": [],
   "source": [
    "from datetime import datetime\n",
    "import time\n",
    "\n",
    "import matplotlib\n",
    "matplotlib.use('TkAgg')\n",
    "import matplotlib.pyplot as plt\n",
    "import numpy as np\n",
    "import pandas as pd\n",
    "from sklearn import preprocessing\n",
    "from sklearn.cross_validation import train_test_split\n",
    "from sklearn.decomposition import PCA\n",
    "from sklearn.ensemble import RandomForestRegressor\n",
    "from sklearn.feature_extraction import DictVectorizer\n",
    "from sklearn.metrics import mean_squared_error, accuracy_score\n",
    "from sklearn.cross_validation import cross_val_score\n",
    "from sklearn.grid_search import GridSearchCV\n",
    "\n",
    "\n",
    "city_le = preprocessing.LabelEncoder()\n",
    "city_group_le = preprocessing.LabelEncoder()\n",
    "type_le = preprocessing.LabelEncoder()\n",
    "vec = DictVectorizer()\n",
    "pca = PCA(0.95)\n",
    "\n",
    "\n",
    "def extract_date(value):\n",
    "    value = time.strptime(value, \"%m/%d/%Y\")\n",
    "    return value\n",
    "\n",
    "\n",
    "def years_since_1900(value):\n",
    "    return value.tm_year - 1900\n",
    "\n",
    "\n",
    "def get_df(csv_file, is_training_set=True, reduce_dim=False):\n",
    "    df = pd.read_csv(csv_file, encoding=\"utf-8\", index_col=0)\n",
    "    # Split to year, month day\n",
    "    df['Open Date'] = df['Open Date'].apply(extract_date)\n",
    "    df['YearsSince1900'] = df['Open Date'].apply(years_since_1900)\n",
    "    df['Day'] = df['Open Date'].map(lambda x: x.tm_mday)\n",
    "    df['Month'] = df['Open Date'].map(lambda x: x.tm_mon)\n",
    "    df['Year'] = df['Open Date'].map(lambda x: x.tm_year)\n",
    "\n",
    "    # Remove Open Date column\n",
    "    df.drop('Open Date', axis=1, inplace=True)\n",
    "\n",
    "    # Remove revenue column\n",
    "    revenue = None\n",
    "    if is_training_set:\n",
    "        revenue = df['revenue']\n",
    "        df.drop('revenue', axis=1, inplace=True)\n",
    "        city_le.fit(df['City'])\n",
    "        city_group_le.fit(df['City Group'])\n",
    "        type_le.fit(df['Type'])\n",
    "        df['City'] = city_le.transform(df['City'])\n",
    "        df['City Group'] = city_group_le.transform(df['City Group'])\n",
    "        df['Type'] = type_le.transform(df['Type'])\n",
    "        if reduce_dim:\n",
    "            df = pca.fit_transform(df)\n",
    "    else:\n",
    "        city_le.fit(df['City'])\n",
    "        city_group_le.fit(df['City Group'])\n",
    "        type_le.fit(df['Type'])\n",
    "        df['City'] = city_le.transform(df['City'])\n",
    "        df['City Group'] = city_group_le.transform(df['City Group'])\n",
    "        df['Type'] = type_le.transform(df['Type'])\n",
    "        if reduce_dim:\n",
    "            df = pca.transform(df)\n",
    "\n",
    "    return df, revenue\n",
    "\n",
    "\n",
    "def write_data(prediction, filename='output/out.csv'):\n",
    "    sub = pd.read_csv('data/sampleSubmission.csv')\n",
    "    sub['Prediction'] = prediction\n",
    "    sub.to_csv(filename, index=False)\n",
    "    \n",
    "def calc_rmse(y_test, y_pred):\n",
    "    rmse = np.sqrt(mean_squared_error(y_test, y_pred))\n",
    "    print(\"RMSE: \", rmse)\n",
    "    return rmse\n",
    "\n",
    "\n",
    "train, revenue = get_df('data/train.csv')\n",
    "test, _ = get_df('data/test.csv', is_training_set=False)"
   ]
  },
  {
   "cell_type": "markdown",
   "metadata": {},
   "source": [
    "## Linear Regression ##"
   ]
  },
  {
   "cell_type": "code",
   "execution_count": 112,
   "metadata": {
    "collapsed": false
   },
   "outputs": [
    {
     "name": "stdout",
     "output_type": "stream",
     "text": [
      "('RMSE: ', 2786803.8355746288)\n"
     ]
    },
    {
     "data": {
      "text/plain": [
       "2786803.8355746288"
      ]
     },
     "execution_count": 112,
     "metadata": {},
     "output_type": "execute_result"
    }
   ],
   "source": [
    "from sklearn.linear_model import LinearRegression\n",
    "X_train, X_test, y_train, y_test = train_test_split(train, revenue, test_size=0.2)\n",
    "\n",
    "model = LinearRegression()\n",
    "model.fit(X_train, y_train)\n",
    "y_pred = model.predict(X_test)\n",
    "\n",
    "calc_rmse(y_test, y_pred)"
   ]
  },
  {
   "cell_type": "markdown",
   "metadata": {},
   "source": [
    "## Ridge Regression ##"
   ]
  },
  {
   "cell_type": "code",
   "execution_count": 118,
   "metadata": {
    "collapsed": false
   },
   "outputs": [
    {
     "name": "stdout",
     "output_type": "stream",
     "text": [
      "('RMSE: ', 3200381.2666488276)\n"
     ]
    },
    {
     "data": {
      "text/plain": [
       "3200381.2666488276"
      ]
     },
     "execution_count": 118,
     "metadata": {},
     "output_type": "execute_result"
    }
   ],
   "source": [
    "from sklearn.linear_model import Ridge\n",
    "X_train, X_test, y_train, y_test = train_test_split(train, revenue, test_size=0.2)\n",
    "\n",
    "model = Ridge(alpha=0.5)\n",
    "model.fit(X_train, y_train)\n",
    "y_pred = model.predict(X_test)\n",
    "\n",
    "calc_rmse(y_test, y_pred)"
   ]
  },
  {
   "cell_type": "markdown",
   "metadata": {},
   "source": [
    "## Lasso ##"
   ]
  },
  {
   "cell_type": "code",
   "execution_count": 149,
   "metadata": {
    "collapsed": false
   },
   "outputs": [
    {
     "name": "stdout",
     "output_type": "stream",
     "text": [
      "('RMSE: ', 4783865.6526572714)\n"
     ]
    },
    {
     "data": {
      "text/plain": [
       "4783865.6526572714"
      ]
     },
     "execution_count": 149,
     "metadata": {},
     "output_type": "execute_result"
    }
   ],
   "source": [
    "from sklearn.linear_model import Lasso\n",
    "X_train, X_test, y_train, y_test = train_test_split(train, revenue, test_size=0.2)\n",
    "\n",
    "model = Ridge(alpha=0.1)\n",
    "model.fit(X_train, y_train)\n",
    "y_pred = model.predict(X_test)\n",
    "\n",
    "calc_rmse(y_test, y_pred)"
   ]
  },
  {
   "cell_type": "markdown",
   "metadata": {},
   "source": [
    "## ElasticNet ##"
   ]
  },
  {
   "cell_type": "code",
   "execution_count": 165,
   "metadata": {
    "collapsed": false
   },
   "outputs": [],
   "source": [
    "from sklearn.linear_model import ElasticNet\n",
    "X_train, X_test, y_train, y_test = train_test_split(train, revenue, test_size=0.2)\n",
    "\n",
    "model = ElasticNet()\n",
    "model.fit(X_train, y_train)\n",
    "y_pred = model.predict(X_test)\n",
    "\n",
    "calc_rmse(y_test, y_pred)\n",
    "\n",
    "\n",
    "#model = ElasticNet()\n",
    "#model.fit(train, revenue)\n",
    "#prediction = model.predict(test)\n",
    "#write_data(prediction, filename='output/elasticnet.csv')"
   ]
  }
 ],
 "metadata": {
  "kernelspec": {
   "display_name": "Python 2",
   "language": "python",
   "name": "python2"
  },
  "language_info": {
   "codemirror_mode": {
    "name": "ipython",
    "version": 2
   },
   "file_extension": ".py",
   "mimetype": "text/x-python",
   "name": "python",
   "nbconvert_exporter": "python",
   "pygments_lexer": "ipython2",
   "version": "2.7.8"
  }
 },
 "nbformat": 4,
 "nbformat_minor": 0
}
